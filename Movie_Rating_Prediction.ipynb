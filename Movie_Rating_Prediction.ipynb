{
  "nbformat": 4,
  "nbformat_minor": 0,
  "metadata": {
    "colab": {
      "provenance": []
    },
    "kernelspec": {
      "name": "python3",
      "display_name": "Python 3"
    },
    "language_info": {
      "name": "python"
    }
  },
  "cells": [
    {
      "cell_type": "code",
      "execution_count": null,
      "metadata": {
        "id": "Q34wgbZ0HQne"
      },
      "outputs": [],
      "source": [
        "import pandas as pd\n",
        "import matplotlib.pyplot as plt\n",
        "import seaborn as sns\n",
        "from sklearn.model_selection import train_test_split\n",
        "from sklearn.impute import SimpleImputer\n",
        "from sklearn.preprocessing import OneHotEncoder, StandardScaler\n",
        "from sklearn.compose import ColumnTransformer\n",
        "from sklearn.pipeline import Pipeline\n",
        "from sklearn.linear_model import LinearRegression\n",
        "from sklearn.metrics import mean_squared_error, r2_score"
      ]
    },
    {
      "cell_type": "code",
      "source": [
        "movies_rating = pd.read_csv(\"/content/Movie dataset.csv\", encoding='latin1')\n",
        "movies_rating"
      ],
      "metadata": {
        "colab": {
          "base_uri": "https://localhost:8080/",
          "height": 597
        },
        "id": "EeH2vyCGHvg5",
        "outputId": "ae11b792-d357-44b5-89e3-e5393b12d991"
      },
      "execution_count": null,
      "outputs": [
        {
          "output_type": "execute_result",
          "data": {
            "text/plain": [
              "                                     Name    Year Duration            Genre  \\\n",
              "0                                             NaN      NaN            Drama   \n",
              "1      #Gadhvi (He thought he was Gandhi)  (2019)  109 min            Drama   \n",
              "2                             #Homecoming  (2021)   90 min   Drama, Musical   \n",
              "3                                 #Yaaram  (2019)  110 min  Comedy, Romance   \n",
              "4                       ...And Once Again  (2010)  105 min            Drama   \n",
              "...                                   ...     ...      ...              ...   \n",
              "15504                 Zulm Ko Jala Doonga  (1988)      NaN           Action   \n",
              "15505                               Zulmi  (1999)  129 min    Action, Drama   \n",
              "15506                           Zulmi Raj  (2005)      NaN           Action   \n",
              "15507                       Zulmi Shikari  (1988)      NaN           Action   \n",
              "15508                        Zulm-O-Sitam  (1998)  130 min    Action, Drama   \n",
              "\n",
              "       Rating Votes            Director           Actor 1             Actor 2  \\\n",
              "0         NaN   NaN       J.S. Randhawa          Manmauji              Birbal   \n",
              "1         7.0     8       Gaurav Bakshi      Rasika Dugal      Vivek Ghamande   \n",
              "2         NaN   NaN  Soumyajit Majumdar      Sayani Gupta   Plabita Borthakur   \n",
              "3         4.4    35          Ovais Khan           Prateik          Ishita Raj   \n",
              "4         NaN   NaN        Amol Palekar      Rajat Kapoor  Rituparna Sengupta   \n",
              "...       ...   ...                 ...               ...                 ...   \n",
              "15504     4.6    11       Mahendra Shah  Naseeruddin Shah       Sumeet Saigal   \n",
              "15505     4.5   655          Kuku Kohli      Akshay Kumar      Twinkle Khanna   \n",
              "15506     NaN   NaN          Kiran Thej   Sangeeta Tiwari                 NaN   \n",
              "15507     NaN   NaN                 NaN               NaN                 NaN   \n",
              "15508     6.2    20        K.C. Bokadia        Dharmendra          Jaya Prada   \n",
              "\n",
              "               Actor 3  \n",
              "0      Rajendra Bhatia  \n",
              "1        Arvind Jangid  \n",
              "2           Roy Angana  \n",
              "3      Siddhant Kapoor  \n",
              "4          Antara Mali  \n",
              "...                ...  \n",
              "15504    Suparna Anand  \n",
              "15505      Aruna Irani  \n",
              "15506              NaN  \n",
              "15507              NaN  \n",
              "15508      Arjun Sarja  \n",
              "\n",
              "[15509 rows x 10 columns]"
            ],
            "text/html": [
              "\n",
              "  <div id=\"df-d4e14ef8-cc66-4900-a181-330195bc7d25\" class=\"colab-df-container\">\n",
              "    <div>\n",
              "<style scoped>\n",
              "    .dataframe tbody tr th:only-of-type {\n",
              "        vertical-align: middle;\n",
              "    }\n",
              "\n",
              "    .dataframe tbody tr th {\n",
              "        vertical-align: top;\n",
              "    }\n",
              "\n",
              "    .dataframe thead th {\n",
              "        text-align: right;\n",
              "    }\n",
              "</style>\n",
              "<table border=\"1\" class=\"dataframe\">\n",
              "  <thead>\n",
              "    <tr style=\"text-align: right;\">\n",
              "      <th></th>\n",
              "      <th>Name</th>\n",
              "      <th>Year</th>\n",
              "      <th>Duration</th>\n",
              "      <th>Genre</th>\n",
              "      <th>Rating</th>\n",
              "      <th>Votes</th>\n",
              "      <th>Director</th>\n",
              "      <th>Actor 1</th>\n",
              "      <th>Actor 2</th>\n",
              "      <th>Actor 3</th>\n",
              "    </tr>\n",
              "  </thead>\n",
              "  <tbody>\n",
              "    <tr>\n",
              "      <th>0</th>\n",
              "      <td></td>\n",
              "      <td>NaN</td>\n",
              "      <td>NaN</td>\n",
              "      <td>Drama</td>\n",
              "      <td>NaN</td>\n",
              "      <td>NaN</td>\n",
              "      <td>J.S. Randhawa</td>\n",
              "      <td>Manmauji</td>\n",
              "      <td>Birbal</td>\n",
              "      <td>Rajendra Bhatia</td>\n",
              "    </tr>\n",
              "    <tr>\n",
              "      <th>1</th>\n",
              "      <td>#Gadhvi (He thought he was Gandhi)</td>\n",
              "      <td>(2019)</td>\n",
              "      <td>109 min</td>\n",
              "      <td>Drama</td>\n",
              "      <td>7.0</td>\n",
              "      <td>8</td>\n",
              "      <td>Gaurav Bakshi</td>\n",
              "      <td>Rasika Dugal</td>\n",
              "      <td>Vivek Ghamande</td>\n",
              "      <td>Arvind Jangid</td>\n",
              "    </tr>\n",
              "    <tr>\n",
              "      <th>2</th>\n",
              "      <td>#Homecoming</td>\n",
              "      <td>(2021)</td>\n",
              "      <td>90 min</td>\n",
              "      <td>Drama, Musical</td>\n",
              "      <td>NaN</td>\n",
              "      <td>NaN</td>\n",
              "      <td>Soumyajit Majumdar</td>\n",
              "      <td>Sayani Gupta</td>\n",
              "      <td>Plabita Borthakur</td>\n",
              "      <td>Roy Angana</td>\n",
              "    </tr>\n",
              "    <tr>\n",
              "      <th>3</th>\n",
              "      <td>#Yaaram</td>\n",
              "      <td>(2019)</td>\n",
              "      <td>110 min</td>\n",
              "      <td>Comedy, Romance</td>\n",
              "      <td>4.4</td>\n",
              "      <td>35</td>\n",
              "      <td>Ovais Khan</td>\n",
              "      <td>Prateik</td>\n",
              "      <td>Ishita Raj</td>\n",
              "      <td>Siddhant Kapoor</td>\n",
              "    </tr>\n",
              "    <tr>\n",
              "      <th>4</th>\n",
              "      <td>...And Once Again</td>\n",
              "      <td>(2010)</td>\n",
              "      <td>105 min</td>\n",
              "      <td>Drama</td>\n",
              "      <td>NaN</td>\n",
              "      <td>NaN</td>\n",
              "      <td>Amol Palekar</td>\n",
              "      <td>Rajat Kapoor</td>\n",
              "      <td>Rituparna Sengupta</td>\n",
              "      <td>Antara Mali</td>\n",
              "    </tr>\n",
              "    <tr>\n",
              "      <th>...</th>\n",
              "      <td>...</td>\n",
              "      <td>...</td>\n",
              "      <td>...</td>\n",
              "      <td>...</td>\n",
              "      <td>...</td>\n",
              "      <td>...</td>\n",
              "      <td>...</td>\n",
              "      <td>...</td>\n",
              "      <td>...</td>\n",
              "      <td>...</td>\n",
              "    </tr>\n",
              "    <tr>\n",
              "      <th>15504</th>\n",
              "      <td>Zulm Ko Jala Doonga</td>\n",
              "      <td>(1988)</td>\n",
              "      <td>NaN</td>\n",
              "      <td>Action</td>\n",
              "      <td>4.6</td>\n",
              "      <td>11</td>\n",
              "      <td>Mahendra Shah</td>\n",
              "      <td>Naseeruddin Shah</td>\n",
              "      <td>Sumeet Saigal</td>\n",
              "      <td>Suparna Anand</td>\n",
              "    </tr>\n",
              "    <tr>\n",
              "      <th>15505</th>\n",
              "      <td>Zulmi</td>\n",
              "      <td>(1999)</td>\n",
              "      <td>129 min</td>\n",
              "      <td>Action, Drama</td>\n",
              "      <td>4.5</td>\n",
              "      <td>655</td>\n",
              "      <td>Kuku Kohli</td>\n",
              "      <td>Akshay Kumar</td>\n",
              "      <td>Twinkle Khanna</td>\n",
              "      <td>Aruna Irani</td>\n",
              "    </tr>\n",
              "    <tr>\n",
              "      <th>15506</th>\n",
              "      <td>Zulmi Raj</td>\n",
              "      <td>(2005)</td>\n",
              "      <td>NaN</td>\n",
              "      <td>Action</td>\n",
              "      <td>NaN</td>\n",
              "      <td>NaN</td>\n",
              "      <td>Kiran Thej</td>\n",
              "      <td>Sangeeta Tiwari</td>\n",
              "      <td>NaN</td>\n",
              "      <td>NaN</td>\n",
              "    </tr>\n",
              "    <tr>\n",
              "      <th>15507</th>\n",
              "      <td>Zulmi Shikari</td>\n",
              "      <td>(1988)</td>\n",
              "      <td>NaN</td>\n",
              "      <td>Action</td>\n",
              "      <td>NaN</td>\n",
              "      <td>NaN</td>\n",
              "      <td>NaN</td>\n",
              "      <td>NaN</td>\n",
              "      <td>NaN</td>\n",
              "      <td>NaN</td>\n",
              "    </tr>\n",
              "    <tr>\n",
              "      <th>15508</th>\n",
              "      <td>Zulm-O-Sitam</td>\n",
              "      <td>(1998)</td>\n",
              "      <td>130 min</td>\n",
              "      <td>Action, Drama</td>\n",
              "      <td>6.2</td>\n",
              "      <td>20</td>\n",
              "      <td>K.C. Bokadia</td>\n",
              "      <td>Dharmendra</td>\n",
              "      <td>Jaya Prada</td>\n",
              "      <td>Arjun Sarja</td>\n",
              "    </tr>\n",
              "  </tbody>\n",
              "</table>\n",
              "<p>15509 rows × 10 columns</p>\n",
              "</div>\n",
              "    <div class=\"colab-df-buttons\">\n",
              "\n",
              "  <div class=\"colab-df-container\">\n",
              "    <button class=\"colab-df-convert\" onclick=\"convertToInteractive('df-d4e14ef8-cc66-4900-a181-330195bc7d25')\"\n",
              "            title=\"Convert this dataframe to an interactive table.\"\n",
              "            style=\"display:none;\">\n",
              "\n",
              "  <svg xmlns=\"http://www.w3.org/2000/svg\" height=\"24px\" viewBox=\"0 -960 960 960\">\n",
              "    <path d=\"M120-120v-720h720v720H120Zm60-500h600v-160H180v160Zm220 220h160v-160H400v160Zm0 220h160v-160H400v160ZM180-400h160v-160H180v160Zm440 0h160v-160H620v160ZM180-180h160v-160H180v160Zm440 0h160v-160H620v160Z\"/>\n",
              "  </svg>\n",
              "    </button>\n",
              "\n",
              "  <style>\n",
              "    .colab-df-container {\n",
              "      display:flex;\n",
              "      gap: 12px;\n",
              "    }\n",
              "\n",
              "    .colab-df-convert {\n",
              "      background-color: #E8F0FE;\n",
              "      border: none;\n",
              "      border-radius: 50%;\n",
              "      cursor: pointer;\n",
              "      display: none;\n",
              "      fill: #1967D2;\n",
              "      height: 32px;\n",
              "      padding: 0 0 0 0;\n",
              "      width: 32px;\n",
              "    }\n",
              "\n",
              "    .colab-df-convert:hover {\n",
              "      background-color: #E2EBFA;\n",
              "      box-shadow: 0px 1px 2px rgba(60, 64, 67, 0.3), 0px 1px 3px 1px rgba(60, 64, 67, 0.15);\n",
              "      fill: #174EA6;\n",
              "    }\n",
              "\n",
              "    .colab-df-buttons div {\n",
              "      margin-bottom: 4px;\n",
              "    }\n",
              "\n",
              "    [theme=dark] .colab-df-convert {\n",
              "      background-color: #3B4455;\n",
              "      fill: #D2E3FC;\n",
              "    }\n",
              "\n",
              "    [theme=dark] .colab-df-convert:hover {\n",
              "      background-color: #434B5C;\n",
              "      box-shadow: 0px 1px 3px 1px rgba(0, 0, 0, 0.15);\n",
              "      filter: drop-shadow(0px 1px 2px rgba(0, 0, 0, 0.3));\n",
              "      fill: #FFFFFF;\n",
              "    }\n",
              "  </style>\n",
              "\n",
              "    <script>\n",
              "      const buttonEl =\n",
              "        document.querySelector('#df-d4e14ef8-cc66-4900-a181-330195bc7d25 button.colab-df-convert');\n",
              "      buttonEl.style.display =\n",
              "        google.colab.kernel.accessAllowed ? 'block' : 'none';\n",
              "\n",
              "      async function convertToInteractive(key) {\n",
              "        const element = document.querySelector('#df-d4e14ef8-cc66-4900-a181-330195bc7d25');\n",
              "        const dataTable =\n",
              "          await google.colab.kernel.invokeFunction('convertToInteractive',\n",
              "                                                    [key], {});\n",
              "        if (!dataTable) return;\n",
              "\n",
              "        const docLinkHtml = 'Like what you see? Visit the ' +\n",
              "          '<a target=\"_blank\" href=https://colab.research.google.com/notebooks/data_table.ipynb>data table notebook</a>'\n",
              "          + ' to learn more about interactive tables.';\n",
              "        element.innerHTML = '';\n",
              "        dataTable['output_type'] = 'display_data';\n",
              "        await google.colab.output.renderOutput(dataTable, element);\n",
              "        const docLink = document.createElement('div');\n",
              "        docLink.innerHTML = docLinkHtml;\n",
              "        element.appendChild(docLink);\n",
              "      }\n",
              "    </script>\n",
              "  </div>\n",
              "\n",
              "\n",
              "<div id=\"df-7f38dccc-b8f8-4b1b-a1fc-24e656e239b7\">\n",
              "  <button class=\"colab-df-quickchart\" onclick=\"quickchart('df-7f38dccc-b8f8-4b1b-a1fc-24e656e239b7')\"\n",
              "            title=\"Suggest charts\"\n",
              "            style=\"display:none;\">\n",
              "\n",
              "<svg xmlns=\"http://www.w3.org/2000/svg\" height=\"24px\"viewBox=\"0 0 24 24\"\n",
              "     width=\"24px\">\n",
              "    <g>\n",
              "        <path d=\"M19 3H5c-1.1 0-2 .9-2 2v14c0 1.1.9 2 2 2h14c1.1 0 2-.9 2-2V5c0-1.1-.9-2-2-2zM9 17H7v-7h2v7zm4 0h-2V7h2v10zm4 0h-2v-4h2v4z\"/>\n",
              "    </g>\n",
              "</svg>\n",
              "  </button>\n",
              "\n",
              "<style>\n",
              "  .colab-df-quickchart {\n",
              "      --bg-color: #E8F0FE;\n",
              "      --fill-color: #1967D2;\n",
              "      --hover-bg-color: #E2EBFA;\n",
              "      --hover-fill-color: #174EA6;\n",
              "      --disabled-fill-color: #AAA;\n",
              "      --disabled-bg-color: #DDD;\n",
              "  }\n",
              "\n",
              "  [theme=dark] .colab-df-quickchart {\n",
              "      --bg-color: #3B4455;\n",
              "      --fill-color: #D2E3FC;\n",
              "      --hover-bg-color: #434B5C;\n",
              "      --hover-fill-color: #FFFFFF;\n",
              "      --disabled-bg-color: #3B4455;\n",
              "      --disabled-fill-color: #666;\n",
              "  }\n",
              "\n",
              "  .colab-df-quickchart {\n",
              "    background-color: var(--bg-color);\n",
              "    border: none;\n",
              "    border-radius: 50%;\n",
              "    cursor: pointer;\n",
              "    display: none;\n",
              "    fill: var(--fill-color);\n",
              "    height: 32px;\n",
              "    padding: 0;\n",
              "    width: 32px;\n",
              "  }\n",
              "\n",
              "  .colab-df-quickchart:hover {\n",
              "    background-color: var(--hover-bg-color);\n",
              "    box-shadow: 0 1px 2px rgba(60, 64, 67, 0.3), 0 1px 3px 1px rgba(60, 64, 67, 0.15);\n",
              "    fill: var(--button-hover-fill-color);\n",
              "  }\n",
              "\n",
              "  .colab-df-quickchart-complete:disabled,\n",
              "  .colab-df-quickchart-complete:disabled:hover {\n",
              "    background-color: var(--disabled-bg-color);\n",
              "    fill: var(--disabled-fill-color);\n",
              "    box-shadow: none;\n",
              "  }\n",
              "\n",
              "  .colab-df-spinner {\n",
              "    border: 2px solid var(--fill-color);\n",
              "    border-color: transparent;\n",
              "    border-bottom-color: var(--fill-color);\n",
              "    animation:\n",
              "      spin 1s steps(1) infinite;\n",
              "  }\n",
              "\n",
              "  @keyframes spin {\n",
              "    0% {\n",
              "      border-color: transparent;\n",
              "      border-bottom-color: var(--fill-color);\n",
              "      border-left-color: var(--fill-color);\n",
              "    }\n",
              "    20% {\n",
              "      border-color: transparent;\n",
              "      border-left-color: var(--fill-color);\n",
              "      border-top-color: var(--fill-color);\n",
              "    }\n",
              "    30% {\n",
              "      border-color: transparent;\n",
              "      border-left-color: var(--fill-color);\n",
              "      border-top-color: var(--fill-color);\n",
              "      border-right-color: var(--fill-color);\n",
              "    }\n",
              "    40% {\n",
              "      border-color: transparent;\n",
              "      border-right-color: var(--fill-color);\n",
              "      border-top-color: var(--fill-color);\n",
              "    }\n",
              "    60% {\n",
              "      border-color: transparent;\n",
              "      border-right-color: var(--fill-color);\n",
              "    }\n",
              "    80% {\n",
              "      border-color: transparent;\n",
              "      border-right-color: var(--fill-color);\n",
              "      border-bottom-color: var(--fill-color);\n",
              "    }\n",
              "    90% {\n",
              "      border-color: transparent;\n",
              "      border-bottom-color: var(--fill-color);\n",
              "    }\n",
              "  }\n",
              "</style>\n",
              "\n",
              "  <script>\n",
              "    async function quickchart(key) {\n",
              "      const quickchartButtonEl =\n",
              "        document.querySelector('#' + key + ' button');\n",
              "      quickchartButtonEl.disabled = true;  // To prevent multiple clicks.\n",
              "      quickchartButtonEl.classList.add('colab-df-spinner');\n",
              "      try {\n",
              "        const charts = await google.colab.kernel.invokeFunction(\n",
              "            'suggestCharts', [key], {});\n",
              "      } catch (error) {\n",
              "        console.error('Error during call to suggestCharts:', error);\n",
              "      }\n",
              "      quickchartButtonEl.classList.remove('colab-df-spinner');\n",
              "      quickchartButtonEl.classList.add('colab-df-quickchart-complete');\n",
              "    }\n",
              "    (() => {\n",
              "      let quickchartButtonEl =\n",
              "        document.querySelector('#df-7f38dccc-b8f8-4b1b-a1fc-24e656e239b7 button');\n",
              "      quickchartButtonEl.style.display =\n",
              "        google.colab.kernel.accessAllowed ? 'block' : 'none';\n",
              "    })();\n",
              "  </script>\n",
              "</div>\n",
              "\n",
              "  <div id=\"id_b68db273-722b-4a8b-a52e-cd6a02db0fc9\">\n",
              "    <style>\n",
              "      .colab-df-generate {\n",
              "        background-color: #E8F0FE;\n",
              "        border: none;\n",
              "        border-radius: 50%;\n",
              "        cursor: pointer;\n",
              "        display: none;\n",
              "        fill: #1967D2;\n",
              "        height: 32px;\n",
              "        padding: 0 0 0 0;\n",
              "        width: 32px;\n",
              "      }\n",
              "\n",
              "      .colab-df-generate:hover {\n",
              "        background-color: #E2EBFA;\n",
              "        box-shadow: 0px 1px 2px rgba(60, 64, 67, 0.3), 0px 1px 3px 1px rgba(60, 64, 67, 0.15);\n",
              "        fill: #174EA6;\n",
              "      }\n",
              "\n",
              "      [theme=dark] .colab-df-generate {\n",
              "        background-color: #3B4455;\n",
              "        fill: #D2E3FC;\n",
              "      }\n",
              "\n",
              "      [theme=dark] .colab-df-generate:hover {\n",
              "        background-color: #434B5C;\n",
              "        box-shadow: 0px 1px 3px 1px rgba(0, 0, 0, 0.15);\n",
              "        filter: drop-shadow(0px 1px 2px rgba(0, 0, 0, 0.3));\n",
              "        fill: #FFFFFF;\n",
              "      }\n",
              "    </style>\n",
              "    <button class=\"colab-df-generate\" onclick=\"generateWithVariable('movies_rating')\"\n",
              "            title=\"Generate code using this dataframe.\"\n",
              "            style=\"display:none;\">\n",
              "\n",
              "  <svg xmlns=\"http://www.w3.org/2000/svg\" height=\"24px\"viewBox=\"0 0 24 24\"\n",
              "       width=\"24px\">\n",
              "    <path d=\"M7,19H8.4L18.45,9,17,7.55,7,17.6ZM5,21V16.75L18.45,3.32a2,2,0,0,1,2.83,0l1.4,1.43a1.91,1.91,0,0,1,.58,1.4,1.91,1.91,0,0,1-.58,1.4L9.25,21ZM18.45,9,17,7.55Zm-12,3A5.31,5.31,0,0,0,4.9,8.1,5.31,5.31,0,0,0,1,6.5,5.31,5.31,0,0,0,4.9,4.9,5.31,5.31,0,0,0,6.5,1,5.31,5.31,0,0,0,8.1,4.9,5.31,5.31,0,0,0,12,6.5,5.46,5.46,0,0,0,6.5,12Z\"/>\n",
              "  </svg>\n",
              "    </button>\n",
              "    <script>\n",
              "      (() => {\n",
              "      const buttonEl =\n",
              "        document.querySelector('#id_b68db273-722b-4a8b-a52e-cd6a02db0fc9 button.colab-df-generate');\n",
              "      buttonEl.style.display =\n",
              "        google.colab.kernel.accessAllowed ? 'block' : 'none';\n",
              "\n",
              "      buttonEl.onclick = () => {\n",
              "        google.colab.notebook.generateWithVariable('movies_rating');\n",
              "      }\n",
              "      })();\n",
              "    </script>\n",
              "  </div>\n",
              "\n",
              "    </div>\n",
              "  </div>\n"
            ],
            "application/vnd.google.colaboratory.intrinsic+json": {
              "type": "dataframe",
              "variable_name": "movies_rating",
              "summary": "{\n  \"name\": \"movies_rating\",\n  \"rows\": 15509,\n  \"fields\": [\n    {\n      \"column\": \"Name\",\n      \"properties\": {\n        \"dtype\": \"string\",\n        \"num_unique_values\": 13838,\n        \"samples\": [\n          \"Tumsa Nahin Dekha\",\n          \"Thanedaar\",\n          \"Farzande Hind\"\n        ],\n        \"semantic_type\": \"\",\n        \"description\": \"\"\n      }\n    },\n    {\n      \"column\": \"Year\",\n      \"properties\": {\n        \"dtype\": \"category\",\n        \"num_unique_values\": 102,\n        \"samples\": [\n          \"(1974)\",\n          \"(1963)\",\n          \"(1971)\"\n        ],\n        \"semantic_type\": \"\",\n        \"description\": \"\"\n      }\n    },\n    {\n      \"column\": \"Duration\",\n      \"properties\": {\n        \"dtype\": \"category\",\n        \"num_unique_values\": 182,\n        \"samples\": [\n          \"168 min\",\n          \"99 min\",\n          \"179 min\"\n        ],\n        \"semantic_type\": \"\",\n        \"description\": \"\"\n      }\n    },\n    {\n      \"column\": \"Genre\",\n      \"properties\": {\n        \"dtype\": \"category\",\n        \"num_unique_values\": 485,\n        \"samples\": [\n          \"Family, Mystery\",\n          \"Comedy, Fantasy, Musical\",\n          \"Action, Adventure, Crime\"\n        ],\n        \"semantic_type\": \"\",\n        \"description\": \"\"\n      }\n    },\n    {\n      \"column\": \"Rating\",\n      \"properties\": {\n        \"dtype\": \"number\",\n        \"std\": 1.3817771548659665,\n        \"min\": 1.1,\n        \"max\": 10.0,\n        \"num_unique_values\": 84,\n        \"samples\": [\n          1.4,\n          7.0,\n          2.9\n        ],\n        \"semantic_type\": \"\",\n        \"description\": \"\"\n      }\n    },\n    {\n      \"column\": \"Votes\",\n      \"properties\": {\n        \"dtype\": \"category\",\n        \"num_unique_values\": 2034,\n        \"samples\": [\n          \"837\",\n          \"101\",\n          \"2,566\"\n        ],\n        \"semantic_type\": \"\",\n        \"description\": \"\"\n      }\n    },\n    {\n      \"column\": \"Director\",\n      \"properties\": {\n        \"dtype\": \"category\",\n        \"num_unique_values\": 5938,\n        \"samples\": [\n          \"Param Hans Chitra\",\n          \"Vickram\",\n          \"Zaigham Ali Syed\"\n        ],\n        \"semantic_type\": \"\",\n        \"description\": \"\"\n      }\n    },\n    {\n      \"column\": \"Actor 1\",\n      \"properties\": {\n        \"dtype\": \"category\",\n        \"num_unique_values\": 4718,\n        \"samples\": [\n          \"Abhishek Bachchan\",\n          \"Giri Babu\",\n          \"Ajay Bafna\"\n        ],\n        \"semantic_type\": \"\",\n        \"description\": \"\"\n      }\n    },\n    {\n      \"column\": \"Actor 2\",\n      \"properties\": {\n        \"dtype\": \"category\",\n        \"num_unique_values\": 4891,\n        \"samples\": [\n          \"Bipasha Basu\",\n          \"Mukul Dev\",\n          \"Arjun Kapoor\"\n        ],\n        \"semantic_type\": \"\",\n        \"description\": \"\"\n      }\n    },\n    {\n      \"column\": \"Actor 3\",\n      \"properties\": {\n        \"dtype\": \"category\",\n        \"num_unique_values\": 4820,\n        \"samples\": [\n          \"Damandeep Singh\",\n          \"Kamini Kaushal\",\n          \"Babu\"\n        ],\n        \"semantic_type\": \"\",\n        \"description\": \"\"\n      }\n    }\n  ]\n}"
            }
          },
          "metadata": {},
          "execution_count": 2
        }
      ]
    },
    {
      "cell_type": "code",
      "source": [
        "print(movies_rating.info())"
      ],
      "metadata": {
        "colab": {
          "base_uri": "https://localhost:8080/"
        },
        "id": "RoIfeyGrH4N-",
        "outputId": "72e7d728-5411-4684-97de-e932fd02878e"
      },
      "execution_count": null,
      "outputs": [
        {
          "output_type": "stream",
          "name": "stdout",
          "text": [
            "<class 'pandas.core.frame.DataFrame'>\n",
            "RangeIndex: 15509 entries, 0 to 15508\n",
            "Data columns (total 10 columns):\n",
            " #   Column    Non-Null Count  Dtype  \n",
            "---  ------    --------------  -----  \n",
            " 0   Name      15509 non-null  object \n",
            " 1   Year      14981 non-null  object \n",
            " 2   Duration  7240 non-null   object \n",
            " 3   Genre     13632 non-null  object \n",
            " 4   Rating    7919 non-null   float64\n",
            " 5   Votes     7920 non-null   object \n",
            " 6   Director  14984 non-null  object \n",
            " 7   Actor 1   13892 non-null  object \n",
            " 8   Actor 2   13125 non-null  object \n",
            " 9   Actor 3   12365 non-null  object \n",
            "dtypes: float64(1), object(9)\n",
            "memory usage: 1.2+ MB\n",
            "None\n"
          ]
        }
      ]
    },
    {
      "cell_type": "code",
      "source": [
        "print(movies_rating.describe())"
      ],
      "metadata": {
        "colab": {
          "base_uri": "https://localhost:8080/"
        },
        "id": "v5uvvi0HIAtp",
        "outputId": "f5204f31-c316-4cf2-a213-03013b8b46d8"
      },
      "execution_count": null,
      "outputs": [
        {
          "output_type": "stream",
          "name": "stdout",
          "text": [
            "            Rating\n",
            "count  7919.000000\n",
            "mean      5.841621\n",
            "std       1.381777\n",
            "min       1.100000\n",
            "25%       4.900000\n",
            "50%       6.000000\n",
            "75%       6.800000\n",
            "max      10.000000\n"
          ]
        }
      ]
    },
    {
      "cell_type": "code",
      "source": [
        "print(movies_rating.head())"
      ],
      "metadata": {
        "colab": {
          "base_uri": "https://localhost:8080/"
        },
        "id": "-ZZWfbuTIFVB",
        "outputId": "237b3e60-35e8-4d1e-f147-cbe1c0cb6830"
      },
      "execution_count": null,
      "outputs": [
        {
          "output_type": "stream",
          "name": "stdout",
          "text": [
            "                                 Name    Year Duration            Genre  \\\n",
            "0                                         NaN      NaN            Drama   \n",
            "1  #Gadhvi (He thought he was Gandhi)  (2019)  109 min            Drama   \n",
            "2                         #Homecoming  (2021)   90 min   Drama, Musical   \n",
            "3                             #Yaaram  (2019)  110 min  Comedy, Romance   \n",
            "4                   ...And Once Again  (2010)  105 min            Drama   \n",
            "\n",
            "   Rating Votes            Director       Actor 1             Actor 2  \\\n",
            "0     NaN   NaN       J.S. Randhawa      Manmauji              Birbal   \n",
            "1     7.0     8       Gaurav Bakshi  Rasika Dugal      Vivek Ghamande   \n",
            "2     NaN   NaN  Soumyajit Majumdar  Sayani Gupta   Plabita Borthakur   \n",
            "3     4.4    35          Ovais Khan       Prateik          Ishita Raj   \n",
            "4     NaN   NaN        Amol Palekar  Rajat Kapoor  Rituparna Sengupta   \n",
            "\n",
            "           Actor 3  \n",
            "0  Rajendra Bhatia  \n",
            "1    Arvind Jangid  \n",
            "2       Roy Angana  \n",
            "3  Siddhant Kapoor  \n",
            "4      Antara Mali  \n"
          ]
        }
      ]
    },
    {
      "cell_type": "code",
      "source": [
        "movies_rating['Year'] = pd.to_numeric(movies_rating['Year'], errors='coerce')\n",
        "movies_rating['Duration'] = pd.to_numeric(movies_rating['Duration'], errors='coerce')\n",
        "movies_rating['Votes'] = pd.to_numeric(movies_rating['Votes'].str.replace(',', ''), errors='coerce')"
      ],
      "metadata": {
        "id": "T8_yRwkyIJGl"
      },
      "execution_count": null,
      "outputs": []
    },
    {
      "cell_type": "code",
      "source": [
        "movies_rating.fillna({\n",
        "    'Genre': 'Unknown',\n",
        "    'Director': 'Unknown',\n",
        "    'Actor 1': 'Unknown',\n",
        "    'Actor 2': 'Unknown',\n",
        "    'Actor 3': 'Unknown',\n",
        "    'Rating': movies_rating['Rating'].mean(),\n",
        "    'Year': movies_rating['Year'].mean(),\n",
        "    'Duration': movies_rating['Duration'].mean(),\n",
        "    'Votes': movies_rating['Votes'].mean()\n",
        "}, inplace=True)"
      ],
      "metadata": {
        "id": "zpnI9Tt2IYMz"
      },
      "execution_count": null,
      "outputs": []
    },
    {
      "cell_type": "code",
      "source": [
        "movies_rating['Actors'] = movies_rating['Actor 1'] + ', ' + movies_rating['Actor 2'] + ', ' +movies_rating['Actor 3']"
      ],
      "metadata": {
        "id": "C3thh4n3Ij0_"
      },
      "execution_count": null,
      "outputs": []
    },
    {
      "cell_type": "code",
      "source": [
        "movies_rating = movies_rating.drop(['Name', 'Actor 1', 'Actor 2', 'Actor 3'], axis=1)"
      ],
      "metadata": {
        "id": "Bj-R0kKEIrel"
      },
      "execution_count": null,
      "outputs": []
    },
    {
      "cell_type": "code",
      "source": [
        "X = movies_rating.drop('Rating', axis=1)\n",
        "y = movies_rating['Rating']"
      ],
      "metadata": {
        "id": "1Prz9zcmIwtg"
      },
      "execution_count": null,
      "outputs": []
    },
    {
      "cell_type": "code",
      "source": [
        "X_train, X_test, y_train, y_test = train_test_split(X, y, test_size=0.2, random_state=42)"
      ],
      "metadata": {
        "id": "9DRwxfDKI2s6"
      },
      "execution_count": null,
      "outputs": []
    },
    {
      "cell_type": "code",
      "source": [
        "categorical_features = ['Genre', 'Director', 'Actors']\n",
        "numeric_features = ['Year', 'Duration', 'Votes']\n",
        "\n",
        "preprocessor = ColumnTransformer(\n",
        "    transformers=[\n",
        "        ('cat', OneHotEncoder(handle_unknown='ignore'), categorical_features),\n",
        "        ('num', StandardScaler(), numeric_features)\n",
        "    ])"
      ],
      "metadata": {
        "id": "9WelDlzKI6e5"
      },
      "execution_count": null,
      "outputs": []
    },
    {
      "cell_type": "code",
      "source": [
        "imputer = SimpleImputer(strategy='mean') # Define the imputer\n",
        "\n",
        "linear_model = Pipeline(steps=[\n",
        "    ('preprocessor', preprocessor),\n",
        "    ('imputer', imputer), # Add imputation step to the pipeline\n",
        "    ('regressor', LinearRegression())\n",
        "])\n",
        "linear_model.fit(X_train, y_train)"
      ],
      "metadata": {
        "colab": {
          "base_uri": "https://localhost:8080/",
          "height": 386
        },
        "id": "mUeI07KOI-GI",
        "outputId": "554d6c82-f648-4210-80ea-981c5480d3ff"
      },
      "execution_count": null,
      "outputs": [
        {
          "output_type": "stream",
          "name": "stderr",
          "text": [
            "/usr/local/lib/python3.10/dist-packages/sklearn/utils/extmath.py:1050: RuntimeWarning: invalid value encountered in divide\n",
            "  updated_mean = (last_sum + new_sum) / updated_sample_count\n",
            "/usr/local/lib/python3.10/dist-packages/sklearn/utils/extmath.py:1055: RuntimeWarning: invalid value encountered in divide\n",
            "  T = new_sum / new_sample_count\n",
            "/usr/local/lib/python3.10/dist-packages/sklearn/utils/extmath.py:1075: RuntimeWarning: invalid value encountered in divide\n",
            "  new_unnormalized_variance -= correction**2 / new_sample_count\n",
            "/usr/local/lib/python3.10/dist-packages/sklearn/impute/_base.py:558: UserWarning: Skipping features without any observed values: [16447 16448]. At least one non-missing value is needed for imputation with strategy='mean'.\n",
            "  warnings.warn(\n"
          ]
        },
        {
          "output_type": "execute_result",
          "data": {
            "text/plain": [
              "Pipeline(steps=[('preprocessor',\n",
              "                 ColumnTransformer(transformers=[('cat',\n",
              "                                                  OneHotEncoder(handle_unknown='ignore'),\n",
              "                                                  ['Genre', 'Director',\n",
              "                                                   'Actors']),\n",
              "                                                 ('num', StandardScaler(),\n",
              "                                                  ['Year', 'Duration',\n",
              "                                                   'Votes'])])),\n",
              "                ('imputer', SimpleImputer()),\n",
              "                ('regressor', LinearRegression())])"
            ],
            "text/html": [
              "<style>#sk-container-id-1 {color: black;}#sk-container-id-1 pre{padding: 0;}#sk-container-id-1 div.sk-toggleable {background-color: white;}#sk-container-id-1 label.sk-toggleable__label {cursor: pointer;display: block;width: 100%;margin-bottom: 0;padding: 0.3em;box-sizing: border-box;text-align: center;}#sk-container-id-1 label.sk-toggleable__label-arrow:before {content: \"▸\";float: left;margin-right: 0.25em;color: #696969;}#sk-container-id-1 label.sk-toggleable__label-arrow:hover:before {color: black;}#sk-container-id-1 div.sk-estimator:hover label.sk-toggleable__label-arrow:before {color: black;}#sk-container-id-1 div.sk-toggleable__content {max-height: 0;max-width: 0;overflow: hidden;text-align: left;background-color: #f0f8ff;}#sk-container-id-1 div.sk-toggleable__content pre {margin: 0.2em;color: black;border-radius: 0.25em;background-color: #f0f8ff;}#sk-container-id-1 input.sk-toggleable__control:checked~div.sk-toggleable__content {max-height: 200px;max-width: 100%;overflow: auto;}#sk-container-id-1 input.sk-toggleable__control:checked~label.sk-toggleable__label-arrow:before {content: \"▾\";}#sk-container-id-1 div.sk-estimator input.sk-toggleable__control:checked~label.sk-toggleable__label {background-color: #d4ebff;}#sk-container-id-1 div.sk-label input.sk-toggleable__control:checked~label.sk-toggleable__label {background-color: #d4ebff;}#sk-container-id-1 input.sk-hidden--visually {border: 0;clip: rect(1px 1px 1px 1px);clip: rect(1px, 1px, 1px, 1px);height: 1px;margin: -1px;overflow: hidden;padding: 0;position: absolute;width: 1px;}#sk-container-id-1 div.sk-estimator {font-family: monospace;background-color: #f0f8ff;border: 1px dotted black;border-radius: 0.25em;box-sizing: border-box;margin-bottom: 0.5em;}#sk-container-id-1 div.sk-estimator:hover {background-color: #d4ebff;}#sk-container-id-1 div.sk-parallel-item::after {content: \"\";width: 100%;border-bottom: 1px solid gray;flex-grow: 1;}#sk-container-id-1 div.sk-label:hover label.sk-toggleable__label {background-color: #d4ebff;}#sk-container-id-1 div.sk-serial::before {content: \"\";position: absolute;border-left: 1px solid gray;box-sizing: border-box;top: 0;bottom: 0;left: 50%;z-index: 0;}#sk-container-id-1 div.sk-serial {display: flex;flex-direction: column;align-items: center;background-color: white;padding-right: 0.2em;padding-left: 0.2em;position: relative;}#sk-container-id-1 div.sk-item {position: relative;z-index: 1;}#sk-container-id-1 div.sk-parallel {display: flex;align-items: stretch;justify-content: center;background-color: white;position: relative;}#sk-container-id-1 div.sk-item::before, #sk-container-id-1 div.sk-parallel-item::before {content: \"\";position: absolute;border-left: 1px solid gray;box-sizing: border-box;top: 0;bottom: 0;left: 50%;z-index: -1;}#sk-container-id-1 div.sk-parallel-item {display: flex;flex-direction: column;z-index: 1;position: relative;background-color: white;}#sk-container-id-1 div.sk-parallel-item:first-child::after {align-self: flex-end;width: 50%;}#sk-container-id-1 div.sk-parallel-item:last-child::after {align-self: flex-start;width: 50%;}#sk-container-id-1 div.sk-parallel-item:only-child::after {width: 0;}#sk-container-id-1 div.sk-dashed-wrapped {border: 1px dashed gray;margin: 0 0.4em 0.5em 0.4em;box-sizing: border-box;padding-bottom: 0.4em;background-color: white;}#sk-container-id-1 div.sk-label label {font-family: monospace;font-weight: bold;display: inline-block;line-height: 1.2em;}#sk-container-id-1 div.sk-label-container {text-align: center;}#sk-container-id-1 div.sk-container {/* jupyter's `normalize.less` sets `[hidden] { display: none; }` but bootstrap.min.css set `[hidden] { display: none !important; }` so we also need the `!important` here to be able to override the default hidden behavior on the sphinx rendered scikit-learn.org. See: https://github.com/scikit-learn/scikit-learn/issues/21755 */display: inline-block !important;position: relative;}#sk-container-id-1 div.sk-text-repr-fallback {display: none;}</style><div id=\"sk-container-id-1\" class=\"sk-top-container\"><div class=\"sk-text-repr-fallback\"><pre>Pipeline(steps=[(&#x27;preprocessor&#x27;,\n",
              "                 ColumnTransformer(transformers=[(&#x27;cat&#x27;,\n",
              "                                                  OneHotEncoder(handle_unknown=&#x27;ignore&#x27;),\n",
              "                                                  [&#x27;Genre&#x27;, &#x27;Director&#x27;,\n",
              "                                                   &#x27;Actors&#x27;]),\n",
              "                                                 (&#x27;num&#x27;, StandardScaler(),\n",
              "                                                  [&#x27;Year&#x27;, &#x27;Duration&#x27;,\n",
              "                                                   &#x27;Votes&#x27;])])),\n",
              "                (&#x27;imputer&#x27;, SimpleImputer()),\n",
              "                (&#x27;regressor&#x27;, LinearRegression())])</pre><b>In a Jupyter environment, please rerun this cell to show the HTML representation or trust the notebook. <br />On GitHub, the HTML representation is unable to render, please try loading this page with nbviewer.org.</b></div><div class=\"sk-container\" hidden><div class=\"sk-item sk-dashed-wrapped\"><div class=\"sk-label-container\"><div class=\"sk-label sk-toggleable\"><input class=\"sk-toggleable__control sk-hidden--visually\" id=\"sk-estimator-id-1\" type=\"checkbox\" ><label for=\"sk-estimator-id-1\" class=\"sk-toggleable__label sk-toggleable__label-arrow\">Pipeline</label><div class=\"sk-toggleable__content\"><pre>Pipeline(steps=[(&#x27;preprocessor&#x27;,\n",
              "                 ColumnTransformer(transformers=[(&#x27;cat&#x27;,\n",
              "                                                  OneHotEncoder(handle_unknown=&#x27;ignore&#x27;),\n",
              "                                                  [&#x27;Genre&#x27;, &#x27;Director&#x27;,\n",
              "                                                   &#x27;Actors&#x27;]),\n",
              "                                                 (&#x27;num&#x27;, StandardScaler(),\n",
              "                                                  [&#x27;Year&#x27;, &#x27;Duration&#x27;,\n",
              "                                                   &#x27;Votes&#x27;])])),\n",
              "                (&#x27;imputer&#x27;, SimpleImputer()),\n",
              "                (&#x27;regressor&#x27;, LinearRegression())])</pre></div></div></div><div class=\"sk-serial\"><div class=\"sk-item sk-dashed-wrapped\"><div class=\"sk-label-container\"><div class=\"sk-label sk-toggleable\"><input class=\"sk-toggleable__control sk-hidden--visually\" id=\"sk-estimator-id-2\" type=\"checkbox\" ><label for=\"sk-estimator-id-2\" class=\"sk-toggleable__label sk-toggleable__label-arrow\">preprocessor: ColumnTransformer</label><div class=\"sk-toggleable__content\"><pre>ColumnTransformer(transformers=[(&#x27;cat&#x27;, OneHotEncoder(handle_unknown=&#x27;ignore&#x27;),\n",
              "                                 [&#x27;Genre&#x27;, &#x27;Director&#x27;, &#x27;Actors&#x27;]),\n",
              "                                (&#x27;num&#x27;, StandardScaler(),\n",
              "                                 [&#x27;Year&#x27;, &#x27;Duration&#x27;, &#x27;Votes&#x27;])])</pre></div></div></div><div class=\"sk-parallel\"><div class=\"sk-parallel-item\"><div class=\"sk-item\"><div class=\"sk-label-container\"><div class=\"sk-label sk-toggleable\"><input class=\"sk-toggleable__control sk-hidden--visually\" id=\"sk-estimator-id-3\" type=\"checkbox\" ><label for=\"sk-estimator-id-3\" class=\"sk-toggleable__label sk-toggleable__label-arrow\">cat</label><div class=\"sk-toggleable__content\"><pre>[&#x27;Genre&#x27;, &#x27;Director&#x27;, &#x27;Actors&#x27;]</pre></div></div></div><div class=\"sk-serial\"><div class=\"sk-item\"><div class=\"sk-estimator sk-toggleable\"><input class=\"sk-toggleable__control sk-hidden--visually\" id=\"sk-estimator-id-4\" type=\"checkbox\" ><label for=\"sk-estimator-id-4\" class=\"sk-toggleable__label sk-toggleable__label-arrow\">OneHotEncoder</label><div class=\"sk-toggleable__content\"><pre>OneHotEncoder(handle_unknown=&#x27;ignore&#x27;)</pre></div></div></div></div></div></div><div class=\"sk-parallel-item\"><div class=\"sk-item\"><div class=\"sk-label-container\"><div class=\"sk-label sk-toggleable\"><input class=\"sk-toggleable__control sk-hidden--visually\" id=\"sk-estimator-id-5\" type=\"checkbox\" ><label for=\"sk-estimator-id-5\" class=\"sk-toggleable__label sk-toggleable__label-arrow\">num</label><div class=\"sk-toggleable__content\"><pre>[&#x27;Year&#x27;, &#x27;Duration&#x27;, &#x27;Votes&#x27;]</pre></div></div></div><div class=\"sk-serial\"><div class=\"sk-item\"><div class=\"sk-estimator sk-toggleable\"><input class=\"sk-toggleable__control sk-hidden--visually\" id=\"sk-estimator-id-6\" type=\"checkbox\" ><label for=\"sk-estimator-id-6\" class=\"sk-toggleable__label sk-toggleable__label-arrow\">StandardScaler</label><div class=\"sk-toggleable__content\"><pre>StandardScaler()</pre></div></div></div></div></div></div></div></div><div class=\"sk-item\"><div class=\"sk-estimator sk-toggleable\"><input class=\"sk-toggleable__control sk-hidden--visually\" id=\"sk-estimator-id-7\" type=\"checkbox\" ><label for=\"sk-estimator-id-7\" class=\"sk-toggleable__label sk-toggleable__label-arrow\">SimpleImputer</label><div class=\"sk-toggleable__content\"><pre>SimpleImputer()</pre></div></div></div><div class=\"sk-item\"><div class=\"sk-estimator sk-toggleable\"><input class=\"sk-toggleable__control sk-hidden--visually\" id=\"sk-estimator-id-8\" type=\"checkbox\" ><label for=\"sk-estimator-id-8\" class=\"sk-toggleable__label sk-toggleable__label-arrow\">LinearRegression</label><div class=\"sk-toggleable__content\"><pre>LinearRegression()</pre></div></div></div></div></div></div></div>"
            ]
          },
          "metadata": {},
          "execution_count": 14
        }
      ]
    },
    {
      "cell_type": "code",
      "source": [
        "linear = linear_model.predict(X_test)\n",
        "linear"
      ],
      "metadata": {
        "colab": {
          "base_uri": "https://localhost:8080/"
        },
        "id": "wJjJZ3odJCzQ",
        "outputId": "e2d3de44-c3a0-433b-e998-700962866d9a"
      },
      "execution_count": null,
      "outputs": [
        {
          "output_type": "stream",
          "name": "stderr",
          "text": [
            "/usr/local/lib/python3.10/dist-packages/sklearn/impute/_base.py:558: UserWarning: Skipping features without any observed values: [16447 16448]. At least one non-missing value is needed for imputation with strategy='mean'.\n",
            "  warnings.warn(\n"
          ]
        },
        {
          "output_type": "execute_result",
          "data": {
            "text/plain": [
              "array([5.98265808, 5.66993823, 5.90850844, ..., 5.91486973, 5.36802046,\n",
              "       5.83713562])"
            ]
          },
          "metadata": {},
          "execution_count": 15
        }
      ]
    },
    {
      "cell_type": "code",
      "source": [
        "def evaluate_model(y_true, y_pred, model_name):\n",
        "    mse = mean_squared_error(y_true, y_pred)\n",
        "    r2 = r2_score(y_true, y_pred)\n",
        "    print(f'{model_name} Model Performance:')\n",
        "    print(f'Mean Squared Error: {mse}')\n",
        "    print(f'R2 Score: {r2}\\n')\n",
        "\n",
        "evaluate_model(y_test, linear, 'Linear Regression')"
      ],
      "metadata": {
        "colab": {
          "base_uri": "https://localhost:8080/"
        },
        "id": "U9dVh3_tJHfJ",
        "outputId": "7a0e9bf5-f46c-4b72-be67-3c85549d094f"
      },
      "execution_count": null,
      "outputs": [
        {
          "output_type": "stream",
          "name": "stdout",
          "text": [
            "Linear Regression Model Performance:\n",
            "Mean Squared Error: 1.2988824718772358\n",
            "R2 Score: -0.3495200071283606\n",
            "\n"
          ]
        }
      ]
    },
    {
      "cell_type": "code",
      "source": [
        "results = pd.DataFrame({\n",
        "    'Actual': y_test,\n",
        "    'Predicted': linear\n",
        "})"
      ],
      "metadata": {
        "id": "9gmowUQPJN7o"
      },
      "execution_count": null,
      "outputs": []
    },
    {
      "cell_type": "code",
      "source": [
        "plt.figure(figsize=(10, 6))\n",
        "sns.scatterplot(x='Actual', y='Predicted', data=results)\n",
        "plt.plot([y_test.min(), y_test.max()], [y_test.min(), y_test.max()], 'k--', lw=2)\n",
        "plt.xlabel('Actual Ratings')\n",
        "plt.ylabel('Predicted Ratings')\n",
        "plt.title('Linear Regression: Predicted vs Actual Ratings')\n",
        "plt.show()"
      ],
      "metadata": {
        "colab": {
          "base_uri": "https://localhost:8080/",
          "height": 564
        },
        "id": "UmmYx9eaJTtx",
        "outputId": "8c6efba1-fce6-4715-d571-c3ae0634fb2e"
      },
      "execution_count": null,
      "outputs": [
        {
          "output_type": "display_data",
          "data": {
            "text/plain": [
              "<Figure size 1000x600 with 1 Axes>"
            ],
            "image/png": "[encoded data removed]"
          },
          "metadata": {}
        }
      ]
    }
  ]
}